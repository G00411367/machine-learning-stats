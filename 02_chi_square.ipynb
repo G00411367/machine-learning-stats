{
 "cells": [
  {
   "cell_type": "markdown",
   "metadata": {},
   "source": [
    "## Chi-Square Tests\n",
    "\n",
    "***"
   ]
  },
  {
   "cell_type": "code",
   "execution_count": 1,
   "metadata": {},
   "outputs": [],
   "source": [
    "# Data frames.\n",
    "import pandas as pd\n",
    "\n",
    "# Shuffles.\n",
    "import random\n",
    "\n",
    "# Statistics.\n",
    "import scipy.stats as ss"
   ]
  },
  {
   "cell_type": "markdown",
   "metadata": {},
   "source": [
    "## Laerd Statistics Chi-Square Test for Independence\n",
    "\n",
    "https://statistics.laerd.com/spss-tutorials/chi-square-test-for-association-using-spss-statistics.php\n",
    "\n",
    "***"
   ]
  },
  {
   "cell_type": "markdown",
   "metadata": {},
   "source": []
  },
  {
   "cell_type": "code",
   "execution_count": 2,
   "metadata": {},
   "outputs": [
    {
     "data": {
      "text/plain": [
       "[['Male', 'Books'],\n",
       " ['Male', 'Books'],\n",
       " ['Male', 'Books'],\n",
       " ['Male', 'Books'],\n",
       " ['Male', 'Books'],\n",
       " ['Male', 'Books'],\n",
       " ['Male', 'Books'],\n",
       " ['Male', 'Books'],\n",
       " ['Male', 'Books'],\n",
       " ['Male', 'Books'],\n",
       " ['Male', 'Books'],\n",
       " ['Male', 'Books'],\n",
       " ['Male', 'Books'],\n",
       " ['Male', 'Books'],\n",
       " ['Male', 'Books'],\n",
       " ['Male', 'Books']]"
      ]
     },
     "execution_count": 2,
     "metadata": {},
     "output_type": "execute_result"
    }
   ],
   "source": [
    "# Sixteen Males who preferred Books.\n",
    "male_books = [[\"Male\", \"Books\"]] * 16\n",
    "\n",
    "# Show\n",
    "male_books"
   ]
  },
  {
   "cell_type": "code",
   "execution_count": 3,
   "metadata": {},
   "outputs": [
    {
     "data": {
      "text/plain": [
       "[['Female', 'Books'],\n",
       " ['Female', 'Books'],\n",
       " ['Female', 'Books'],\n",
       " ['Female', 'Books'],\n",
       " ['Female', 'Books'],\n",
       " ['Female', 'Books'],\n",
       " ['Female', 'Books'],\n",
       " ['Female', 'Books'],\n",
       " ['Female', 'Books'],\n",
       " ['Female', 'Books'],\n",
       " ['Female', 'Books'],\n",
       " ['Female', 'Books'],\n",
       " ['Female', 'Books']]"
      ]
     },
     "execution_count": 3,
     "metadata": {},
     "output_type": "execute_result"
    }
   ],
   "source": [
    "# Therteen Female who preferred Books.\n",
    "female_books = [[\"Female\", \"Books\"]] * 13\n",
    "\n",
    "# Show\n",
    "female_books"
   ]
  },
  {
   "cell_type": "code",
   "execution_count": 4,
   "metadata": {},
   "outputs": [
    {
     "data": {
      "text/plain": [
       "[['Male', 'Online'],\n",
       " ['Male', 'Online'],\n",
       " ['Male', 'Online'],\n",
       " ['Male', 'Online'],\n",
       " ['Male', 'Online'],\n",
       " ['Male', 'Online'],\n",
       " ['Male', 'Online'],\n",
       " ['Male', 'Online'],\n",
       " ['Male', 'Online'],\n",
       " ['Male', 'Online'],\n",
       " ['Male', 'Online'],\n",
       " ['Male', 'Online'],\n",
       " ['Male', 'Online'],\n",
       " ['Male', 'Online'],\n",
       " ['Male', 'Online'],\n",
       " ['Male', 'Online'],\n",
       " ['Male', 'Online'],\n",
       " ['Male', 'Online'],\n",
       " ['Male', 'Online'],\n",
       " ['Male', 'Online'],\n",
       " ['Male', 'Online'],\n",
       " ['Male', 'Online'],\n",
       " ['Male', 'Online'],\n",
       " ['Male', 'Online']]"
      ]
     },
     "execution_count": 4,
     "metadata": {},
     "output_type": "execute_result"
    }
   ],
   "source": [
    "# Twenty-four Males who preferred online.\n",
    "male_online = [[\"Male\", \"Online\"]] * 24\n",
    "\n",
    "# Show\n",
    "male_online"
   ]
  },
  {
   "cell_type": "code",
   "execution_count": 5,
   "metadata": {},
   "outputs": [
    {
     "data": {
      "text/plain": [
       "[['Female', 'Online'],\n",
       " ['Female', 'Online'],\n",
       " ['Female', 'Online'],\n",
       " ['Female', 'Online'],\n",
       " ['Female', 'Online'],\n",
       " ['Female', 'Online'],\n",
       " ['Female', 'Online'],\n",
       " ['Female', 'Online'],\n",
       " ['Female', 'Online'],\n",
       " ['Female', 'Online'],\n",
       " ['Female', 'Online'],\n",
       " ['Female', 'Online'],\n",
       " ['Female', 'Online'],\n",
       " ['Female', 'Online'],\n",
       " ['Female', 'Online'],\n",
       " ['Female', 'Online'],\n",
       " ['Female', 'Online'],\n",
       " ['Female', 'Online'],\n",
       " ['Female', 'Online'],\n",
       " ['Female', 'Online'],\n",
       " ['Female', 'Online'],\n",
       " ['Female', 'Online'],\n",
       " ['Female', 'Online'],\n",
       " ['Female', 'Online'],\n",
       " ['Female', 'Online'],\n",
       " ['Female', 'Online'],\n",
       " ['Female', 'Online']]"
      ]
     },
     "execution_count": 5,
     "metadata": {},
     "output_type": "execute_result"
    }
   ],
   "source": [
    "# Twenty-seven Females who preferred online.\n",
    "female_online = [[\"Female\", \"Online\"]] * 27\n",
    "\n",
    "# Show\n",
    "female_online"
   ]
  },
  {
   "cell_type": "code",
   "execution_count": 6,
   "metadata": {},
   "outputs": [
    {
     "data": {
      "text/plain": [
       "[['Male', 'Books'],\n",
       " ['Male', 'Books'],\n",
       " ['Male', 'Books'],\n",
       " ['Male', 'Books'],\n",
       " ['Male', 'Books'],\n",
       " ['Male', 'Books'],\n",
       " ['Male', 'Books'],\n",
       " ['Male', 'Books'],\n",
       " ['Male', 'Books'],\n",
       " ['Male', 'Books'],\n",
       " ['Male', 'Books'],\n",
       " ['Male', 'Books'],\n",
       " ['Male', 'Books'],\n",
       " ['Male', 'Books'],\n",
       " ['Male', 'Books'],\n",
       " ['Male', 'Books'],\n",
       " ['Male', 'Online'],\n",
       " ['Male', 'Online'],\n",
       " ['Male', 'Online'],\n",
       " ['Male', 'Online'],\n",
       " ['Male', 'Online'],\n",
       " ['Male', 'Online'],\n",
       " ['Male', 'Online'],\n",
       " ['Male', 'Online'],\n",
       " ['Male', 'Online'],\n",
       " ['Male', 'Online'],\n",
       " ['Male', 'Online'],\n",
       " ['Male', 'Online'],\n",
       " ['Male', 'Online'],\n",
       " ['Male', 'Online'],\n",
       " ['Male', 'Online'],\n",
       " ['Male', 'Online'],\n",
       " ['Male', 'Online'],\n",
       " ['Male', 'Online'],\n",
       " ['Male', 'Online'],\n",
       " ['Male', 'Online'],\n",
       " ['Male', 'Online'],\n",
       " ['Male', 'Online'],\n",
       " ['Male', 'Online'],\n",
       " ['Male', 'Online'],\n",
       " ['Female', 'Books'],\n",
       " ['Female', 'Books'],\n",
       " ['Female', 'Books'],\n",
       " ['Female', 'Books'],\n",
       " ['Female', 'Books'],\n",
       " ['Female', 'Books'],\n",
       " ['Female', 'Books'],\n",
       " ['Female', 'Books'],\n",
       " ['Female', 'Books'],\n",
       " ['Female', 'Books'],\n",
       " ['Female', 'Books'],\n",
       " ['Female', 'Books'],\n",
       " ['Female', 'Books'],\n",
       " ['Female', 'Online'],\n",
       " ['Female', 'Online'],\n",
       " ['Female', 'Online'],\n",
       " ['Female', 'Online'],\n",
       " ['Female', 'Online'],\n",
       " ['Female', 'Online'],\n",
       " ['Female', 'Online'],\n",
       " ['Female', 'Online'],\n",
       " ['Female', 'Online'],\n",
       " ['Female', 'Online'],\n",
       " ['Female', 'Online'],\n",
       " ['Female', 'Online'],\n",
       " ['Female', 'Online'],\n",
       " ['Female', 'Online'],\n",
       " ['Female', 'Online'],\n",
       " ['Female', 'Online'],\n",
       " ['Female', 'Online'],\n",
       " ['Female', 'Online'],\n",
       " ['Female', 'Online'],\n",
       " ['Female', 'Online'],\n",
       " ['Female', 'Online'],\n",
       " ['Female', 'Online'],\n",
       " ['Female', 'Online'],\n",
       " ['Female', 'Online'],\n",
       " ['Female', 'Online'],\n",
       " ['Female', 'Online'],\n",
       " ['Female', 'Online']]"
      ]
     },
     "execution_count": 6,
     "metadata": {},
     "output_type": "execute_result"
    }
   ],
   "source": [
    "# Raw data, merge the four lists\n",
    "\n",
    "raw_data = male_books + male_online + female_books + female_online\n",
    "\n",
    "# show raw data\n",
    "raw_data"
   ]
  },
  {
   "cell_type": "code",
   "execution_count": 7,
   "metadata": {},
   "outputs": [
    {
     "data": {
      "text/plain": [
       "[['Female', 'Books'],\n",
       " ['Female', 'Online'],\n",
       " ['Male', 'Books'],\n",
       " ['Female', 'Online'],\n",
       " ['Male', 'Online'],\n",
       " ['Male', 'Online'],\n",
       " ['Male', 'Online'],\n",
       " ['Male', 'Books'],\n",
       " ['Male', 'Online'],\n",
       " ['Female', 'Online'],\n",
       " ['Female', 'Books'],\n",
       " ['Female', 'Online'],\n",
       " ['Male', 'Online'],\n",
       " ['Female', 'Books'],\n",
       " ['Female', 'Online'],\n",
       " ['Male', 'Online'],\n",
       " ['Female', 'Online'],\n",
       " ['Male', 'Books'],\n",
       " ['Male', 'Online'],\n",
       " ['Male', 'Books'],\n",
       " ['Female', 'Online'],\n",
       " ['Female', 'Online'],\n",
       " ['Male', 'Online'],\n",
       " ['Male', 'Online'],\n",
       " ['Male', 'Books'],\n",
       " ['Male', 'Books'],\n",
       " ['Female', 'Books'],\n",
       " ['Male', 'Online'],\n",
       " ['Male', 'Online'],\n",
       " ['Male', 'Online'],\n",
       " ['Female', 'Books'],\n",
       " ['Male', 'Books'],\n",
       " ['Male', 'Online'],\n",
       " ['Female', 'Online'],\n",
       " ['Female', 'Online'],\n",
       " ['Female', 'Online'],\n",
       " ['Female', 'Books'],\n",
       " ['Male', 'Books'],\n",
       " ['Female', 'Books'],\n",
       " ['Male', 'Books'],\n",
       " ['Female', 'Online'],\n",
       " ['Male', 'Books'],\n",
       " ['Male', 'Online'],\n",
       " ['Female', 'Online'],\n",
       " ['Male', 'Books'],\n",
       " ['Female', 'Books'],\n",
       " ['Female', 'Online'],\n",
       " ['Female', 'Books'],\n",
       " ['Female', 'Online'],\n",
       " ['Male', 'Online'],\n",
       " ['Male', 'Online'],\n",
       " ['Female', 'Online'],\n",
       " ['Female', 'Books'],\n",
       " ['Male', 'Online'],\n",
       " ['Male', 'Books'],\n",
       " ['Male', 'Online'],\n",
       " ['Male', 'Online'],\n",
       " ['Female', 'Online'],\n",
       " ['Male', 'Online'],\n",
       " ['Female', 'Online'],\n",
       " ['Female', 'Online'],\n",
       " ['Female', 'Online'],\n",
       " ['Male', 'Online'],\n",
       " ['Female', 'Online'],\n",
       " ['Female', 'Books'],\n",
       " ['Female', 'Online'],\n",
       " ['Female', 'Online'],\n",
       " ['Male', 'Online'],\n",
       " ['Male', 'Books'],\n",
       " ['Male', 'Books'],\n",
       " ['Female', 'Books'],\n",
       " ['Female', 'Online'],\n",
       " ['Female', 'Online'],\n",
       " ['Male', 'Online'],\n",
       " ['Female', 'Online'],\n",
       " ['Male', 'Books'],\n",
       " ['Female', 'Books'],\n",
       " ['Male', 'Online'],\n",
       " ['Female', 'Online'],\n",
       " ['Male', 'Books']]"
      ]
     },
     "execution_count": 7,
     "metadata": {},
     "output_type": "execute_result"
    }
   ],
   "source": [
    "# Shuffle the data\n",
    "\n",
    "random.shuffle(raw_data)\n",
    "\n",
    "# show raw_data\n",
    "raw_data"
   ]
  },
  {
   "cell_type": "code",
   "execution_count": 8,
   "metadata": {},
   "outputs": [
    {
     "data": {
      "text/plain": [
       "(('Female',\n",
       "  'Female',\n",
       "  'Male',\n",
       "  'Female',\n",
       "  'Male',\n",
       "  'Male',\n",
       "  'Male',\n",
       "  'Male',\n",
       "  'Male',\n",
       "  'Female',\n",
       "  'Female',\n",
       "  'Female',\n",
       "  'Male',\n",
       "  'Female',\n",
       "  'Female',\n",
       "  'Male',\n",
       "  'Female',\n",
       "  'Male',\n",
       "  'Male',\n",
       "  'Male',\n",
       "  'Female',\n",
       "  'Female',\n",
       "  'Male',\n",
       "  'Male',\n",
       "  'Male',\n",
       "  'Male',\n",
       "  'Female',\n",
       "  'Male',\n",
       "  'Male',\n",
       "  'Male',\n",
       "  'Female',\n",
       "  'Male',\n",
       "  'Male',\n",
       "  'Female',\n",
       "  'Female',\n",
       "  'Female',\n",
       "  'Female',\n",
       "  'Male',\n",
       "  'Female',\n",
       "  'Male',\n",
       "  'Female',\n",
       "  'Male',\n",
       "  'Male',\n",
       "  'Female',\n",
       "  'Male',\n",
       "  'Female',\n",
       "  'Female',\n",
       "  'Female',\n",
       "  'Female',\n",
       "  'Male',\n",
       "  'Male',\n",
       "  'Female',\n",
       "  'Female',\n",
       "  'Male',\n",
       "  'Male',\n",
       "  'Male',\n",
       "  'Male',\n",
       "  'Female',\n",
       "  'Male',\n",
       "  'Female',\n",
       "  'Female',\n",
       "  'Female',\n",
       "  'Male',\n",
       "  'Female',\n",
       "  'Female',\n",
       "  'Female',\n",
       "  'Female',\n",
       "  'Male',\n",
       "  'Male',\n",
       "  'Male',\n",
       "  'Female',\n",
       "  'Female',\n",
       "  'Female',\n",
       "  'Male',\n",
       "  'Female',\n",
       "  'Male',\n",
       "  'Female',\n",
       "  'Male',\n",
       "  'Female',\n",
       "  'Male'),\n",
       " ('Books',\n",
       "  'Online',\n",
       "  'Books',\n",
       "  'Online',\n",
       "  'Online',\n",
       "  'Online',\n",
       "  'Online',\n",
       "  'Books',\n",
       "  'Online',\n",
       "  'Online',\n",
       "  'Books',\n",
       "  'Online',\n",
       "  'Online',\n",
       "  'Books',\n",
       "  'Online',\n",
       "  'Online',\n",
       "  'Online',\n",
       "  'Books',\n",
       "  'Online',\n",
       "  'Books',\n",
       "  'Online',\n",
       "  'Online',\n",
       "  'Online',\n",
       "  'Online',\n",
       "  'Books',\n",
       "  'Books',\n",
       "  'Books',\n",
       "  'Online',\n",
       "  'Online',\n",
       "  'Online',\n",
       "  'Books',\n",
       "  'Books',\n",
       "  'Online',\n",
       "  'Online',\n",
       "  'Online',\n",
       "  'Online',\n",
       "  'Books',\n",
       "  'Books',\n",
       "  'Books',\n",
       "  'Books',\n",
       "  'Online',\n",
       "  'Books',\n",
       "  'Online',\n",
       "  'Online',\n",
       "  'Books',\n",
       "  'Books',\n",
       "  'Online',\n",
       "  'Books',\n",
       "  'Online',\n",
       "  'Online',\n",
       "  'Online',\n",
       "  'Online',\n",
       "  'Books',\n",
       "  'Online',\n",
       "  'Books',\n",
       "  'Online',\n",
       "  'Online',\n",
       "  'Online',\n",
       "  'Online',\n",
       "  'Online',\n",
       "  'Online',\n",
       "  'Online',\n",
       "  'Online',\n",
       "  'Online',\n",
       "  'Books',\n",
       "  'Online',\n",
       "  'Online',\n",
       "  'Online',\n",
       "  'Books',\n",
       "  'Books',\n",
       "  'Books',\n",
       "  'Online',\n",
       "  'Online',\n",
       "  'Online',\n",
       "  'Online',\n",
       "  'Books',\n",
       "  'Books',\n",
       "  'Online',\n",
       "  'Online',\n",
       "  'Books'))"
      ]
     },
     "execution_count": 8,
     "metadata": {},
     "output_type": "execute_result"
    }
   ],
   "source": [
    "# Zip the list - make the rows columns and the columns rows\n",
    "# Interchange the outer and inner lists\n",
    "gender, medium = list(zip(*raw_data))\n",
    "\n",
    "# Show gender, medium\n",
    "gender, medium"
   ]
  },
  {
   "cell_type": "code",
   "execution_count": 9,
   "metadata": {},
   "outputs": [
    {
     "data": {
      "text/html": [
       "<div>\n",
       "<style scoped>\n",
       "    .dataframe tbody tr th:only-of-type {\n",
       "        vertical-align: middle;\n",
       "    }\n",
       "\n",
       "    .dataframe tbody tr th {\n",
       "        vertical-align: top;\n",
       "    }\n",
       "\n",
       "    .dataframe thead th {\n",
       "        text-align: right;\n",
       "    }\n",
       "</style>\n",
       "<table border=\"1\" class=\"dataframe\">\n",
       "  <thead>\n",
       "    <tr style=\"text-align: right;\">\n",
       "      <th></th>\n",
       "      <th>gender</th>\n",
       "      <th>medium</th>\n",
       "    </tr>\n",
       "  </thead>\n",
       "  <tbody>\n",
       "    <tr>\n",
       "      <th>0</th>\n",
       "      <td>Female</td>\n",
       "      <td>Books</td>\n",
       "    </tr>\n",
       "    <tr>\n",
       "      <th>1</th>\n",
       "      <td>Female</td>\n",
       "      <td>Online</td>\n",
       "    </tr>\n",
       "    <tr>\n",
       "      <th>2</th>\n",
       "      <td>Male</td>\n",
       "      <td>Books</td>\n",
       "    </tr>\n",
       "    <tr>\n",
       "      <th>3</th>\n",
       "      <td>Female</td>\n",
       "      <td>Online</td>\n",
       "    </tr>\n",
       "    <tr>\n",
       "      <th>4</th>\n",
       "      <td>Male</td>\n",
       "      <td>Online</td>\n",
       "    </tr>\n",
       "    <tr>\n",
       "      <th>...</th>\n",
       "      <td>...</td>\n",
       "      <td>...</td>\n",
       "    </tr>\n",
       "    <tr>\n",
       "      <th>75</th>\n",
       "      <td>Male</td>\n",
       "      <td>Books</td>\n",
       "    </tr>\n",
       "    <tr>\n",
       "      <th>76</th>\n",
       "      <td>Female</td>\n",
       "      <td>Books</td>\n",
       "    </tr>\n",
       "    <tr>\n",
       "      <th>77</th>\n",
       "      <td>Male</td>\n",
       "      <td>Online</td>\n",
       "    </tr>\n",
       "    <tr>\n",
       "      <th>78</th>\n",
       "      <td>Female</td>\n",
       "      <td>Online</td>\n",
       "    </tr>\n",
       "    <tr>\n",
       "      <th>79</th>\n",
       "      <td>Male</td>\n",
       "      <td>Books</td>\n",
       "    </tr>\n",
       "  </tbody>\n",
       "</table>\n",
       "<p>80 rows × 2 columns</p>\n",
       "</div>"
      ],
      "text/plain": [
       "    gender  medium\n",
       "0   Female   Books\n",
       "1   Female  Online\n",
       "2     Male   Books\n",
       "3   Female  Online\n",
       "4     Male  Online\n",
       "..     ...     ...\n",
       "75    Male   Books\n",
       "76  Female   Books\n",
       "77    Male  Online\n",
       "78  Female  Online\n",
       "79    Male   Books\n",
       "\n",
       "[80 rows x 2 columns]"
      ]
     },
     "execution_count": 9,
     "metadata": {},
     "output_type": "execute_result"
    }
   ],
   "source": [
    "# create a data frame\n",
    "df = pd.DataFrame({\"gender\": gender, \"medium\": medium})\n",
    "\n",
    "# show\n",
    "df"
   ]
  },
  {
   "cell_type": "markdown",
   "metadata": {},
   "source": [
    "## Contingency Table\n",
    "\n",
    "***"
   ]
  },
  {
   "cell_type": "code",
   "execution_count": 10,
   "metadata": {},
   "outputs": [
    {
     "data": {
      "text/plain": [
       "((array(['Female', 'Male'], dtype=object),\n",
       "  array(['Books', 'Online'], dtype=object)),\n",
       " array([[13, 27],\n",
       "        [16, 24]]))"
      ]
     },
     "execution_count": 10,
     "metadata": {},
     "output_type": "execute_result"
    }
   ],
   "source": [
    "# perform fross tab contingency\n",
    "cross = ss.contingency.crosstab(df[\"gender\"], df[\"medium\"])\n",
    "\n",
    "# show\n",
    "cross"
   ]
  },
  {
   "cell_type": "code",
   "execution_count": 11,
   "metadata": {},
   "outputs": [
    {
     "ename": "AttributeError",
     "evalue": "'tuple' object has no attribute 'elements'",
     "output_type": "error",
     "traceback": [
      "\u001b[1;31m---------------------------------------------------------------------------\u001b[0m",
      "\u001b[1;31mAttributeError\u001b[0m                            Traceback (most recent call last)",
      "\u001b[1;32m~\\AppData\\Local\\Temp\\ipykernel_18148\\1476305733.py\u001b[0m in \u001b[0;36m<module>\u001b[1;34m\u001b[0m\n\u001b[0;32m      1\u001b[0m \u001b[1;31m# The first variable and the second\u001b[0m\u001b[1;33m\u001b[0m\u001b[1;33m\u001b[0m\u001b[0m\n\u001b[0;32m      2\u001b[0m \u001b[1;33m\u001b[0m\u001b[0m\n\u001b[1;32m----> 3\u001b[1;33m \u001b[0mfirst\u001b[0m\u001b[1;33m,\u001b[0m \u001b[0msecond\u001b[0m \u001b[1;33m=\u001b[0m \u001b[0mcross\u001b[0m\u001b[1;33m.\u001b[0m\u001b[0melements\u001b[0m\u001b[1;33m\u001b[0m\u001b[1;33m\u001b[0m\u001b[0m\n\u001b[0m\u001b[0;32m      4\u001b[0m \u001b[1;33m\u001b[0m\u001b[0m\n\u001b[0;32m      5\u001b[0m \u001b[1;31m#show\u001b[0m\u001b[1;33m\u001b[0m\u001b[1;33m\u001b[0m\u001b[0m\n",
      "\u001b[1;31mAttributeError\u001b[0m: 'tuple' object has no attribute 'elements'"
     ]
    }
   ],
   "source": [
    "# The first variable and the second\n",
    "\n",
    "first, second = cross.elements\n",
    "\n",
    "#show\n",
    "first, second\n"
   ]
  },
  {
   "cell_type": "code",
   "execution_count": null,
   "metadata": {},
   "outputs": [
    {
     "data": {
      "text/plain": [
       "<function tuple.count(value, /)>"
      ]
     },
     "execution_count": 12,
     "metadata": {},
     "output_type": "execute_result"
    }
   ],
   "source": [
    "# The counts.\n",
    "cross.count"
   ]
  },
  {
   "cell_type": "code",
   "execution_count": null,
   "metadata": {},
   "outputs": [
    {
     "name": "stdout",
     "output_type": "stream",
     "text": [
      "1.9.1\n"
     ]
    }
   ],
   "source": [
    "import scipy\n",
    "print(scipy.__version__)"
   ]
  },
  {
   "cell_type": "code",
   "execution_count": null,
   "metadata": {},
   "outputs": [
    {
     "ename": "TypeError",
     "evalue": "'<' not supported between instances of 'builtin_function_or_method' and 'int'",
     "output_type": "error",
     "traceback": [
      "\u001b[1;31m---------------------------------------------------------------------------\u001b[0m",
      "\u001b[1;31mTypeError\u001b[0m                                 Traceback (most recent call last)",
      "\u001b[1;32m~\\AppData\\Local\\Temp\\ipykernel_2884\\1755875926.py\u001b[0m in \u001b[0;36m<module>\u001b[1;34m\u001b[0m\n\u001b[0;32m      1\u001b[0m \u001b[1;31m# Do the statistics.\u001b[0m\u001b[1;33m\u001b[0m\u001b[1;33m\u001b[0m\u001b[0m\n\u001b[1;32m----> 2\u001b[1;33m \u001b[0mresult\u001b[0m \u001b[1;33m=\u001b[0m \u001b[0mss\u001b[0m\u001b[1;33m.\u001b[0m\u001b[0mchi2_contingency\u001b[0m\u001b[1;33m(\u001b[0m\u001b[0mcross\u001b[0m\u001b[1;33m.\u001b[0m\u001b[0mcount\u001b[0m\u001b[1;33m,\u001b[0m \u001b[0mcorrection\u001b[0m \u001b[1;33m=\u001b[0m \u001b[1;32mFalse\u001b[0m\u001b[1;33m)\u001b[0m\u001b[1;33m\u001b[0m\u001b[1;33m\u001b[0m\u001b[0m\n\u001b[0m\u001b[0;32m      3\u001b[0m \u001b[1;33m\u001b[0m\u001b[0m\n\u001b[0;32m      4\u001b[0m \u001b[1;31m# Show.\u001b[0m\u001b[1;33m\u001b[0m\u001b[1;33m\u001b[0m\u001b[0m\n\u001b[0;32m      5\u001b[0m \u001b[0mresult\u001b[0m\u001b[1;33m\u001b[0m\u001b[1;33m\u001b[0m\u001b[0m\n",
      "\u001b[1;32mc:\\ProgramData\\Anaconda3\\lib\\site-packages\\scipy\\stats\\contingency.py\u001b[0m in \u001b[0;36mchi2_contingency\u001b[1;34m(observed, correction, lambda_)\u001b[0m\n\u001b[0;32m    264\u001b[0m     \"\"\"\n\u001b[0;32m    265\u001b[0m     \u001b[0mobserved\u001b[0m \u001b[1;33m=\u001b[0m \u001b[0mnp\u001b[0m\u001b[1;33m.\u001b[0m\u001b[0masarray\u001b[0m\u001b[1;33m(\u001b[0m\u001b[0mobserved\u001b[0m\u001b[1;33m)\u001b[0m\u001b[1;33m\u001b[0m\u001b[1;33m\u001b[0m\u001b[0m\n\u001b[1;32m--> 266\u001b[1;33m     \u001b[1;32mif\u001b[0m \u001b[0mnp\u001b[0m\u001b[1;33m.\u001b[0m\u001b[0many\u001b[0m\u001b[1;33m(\u001b[0m\u001b[0mobserved\u001b[0m \u001b[1;33m<\u001b[0m \u001b[1;36m0\u001b[0m\u001b[1;33m)\u001b[0m\u001b[1;33m:\u001b[0m\u001b[1;33m\u001b[0m\u001b[1;33m\u001b[0m\u001b[0m\n\u001b[0m\u001b[0;32m    267\u001b[0m         \u001b[1;32mraise\u001b[0m \u001b[0mValueError\u001b[0m\u001b[1;33m(\u001b[0m\u001b[1;34m\"All values in `observed` must be nonnegative.\"\u001b[0m\u001b[1;33m)\u001b[0m\u001b[1;33m\u001b[0m\u001b[1;33m\u001b[0m\u001b[0m\n\u001b[0;32m    268\u001b[0m     \u001b[1;32mif\u001b[0m \u001b[0mobserved\u001b[0m\u001b[1;33m.\u001b[0m\u001b[0msize\u001b[0m \u001b[1;33m==\u001b[0m \u001b[1;36m0\u001b[0m\u001b[1;33m:\u001b[0m\u001b[1;33m\u001b[0m\u001b[1;33m\u001b[0m\u001b[0m\n",
      "\u001b[1;31mTypeError\u001b[0m: '<' not supported between instances of 'builtin_function_or_method' and 'int'"
     ]
    }
   ],
   "source": [
    "# Do the statistics.\n",
    "result = ss.chi2_contingency(cross.count, correction = False)\n",
    "\n",
    "# Show.\n",
    "result"
   ]
  },
  {
   "cell_type": "code",
   "execution_count": null,
   "metadata": {},
   "outputs": [
    {
     "ename": "NameError",
     "evalue": "name 'result' is not defined",
     "output_type": "error",
     "traceback": [
      "\u001b[1;31m---------------------------------------------------------------------------\u001b[0m",
      "\u001b[1;31mNameError\u001b[0m                                 Traceback (most recent call last)",
      "\u001b[1;32m~\\AppData\\Local\\Temp\\ipykernel_2884\\414274784.py\u001b[0m in \u001b[0;36m<module>\u001b[1;34m\u001b[0m\n\u001b[0;32m      1\u001b[0m \u001b[1;31m# The expected frequesncies if independent\u001b[0m\u001b[1;33m\u001b[0m\u001b[1;33m\u001b[0m\u001b[0m\n\u001b[1;32m----> 2\u001b[1;33m \u001b[0mresult\u001b[0m\u001b[1;33m.\u001b[0m\u001b[0mexpected_freq\u001b[0m\u001b[1;33m\u001b[0m\u001b[1;33m\u001b[0m\u001b[0m\n\u001b[0m",
      "\u001b[1;31mNameError\u001b[0m: name 'result' is not defined"
     ]
    }
   ],
   "source": [
    "# The expected frequesncies if independent\n",
    "result.expected_freq"
   ]
  },
  {
   "cell_type": "code",
   "execution_count": null,
   "metadata": {},
   "outputs": [
    {
     "data": {
      "text/plain": [
       "0.3625"
      ]
     },
     "execution_count": 20,
     "metadata": {},
     "output_type": "execute_result"
    }
   ],
   "source": [
    "# Preferd books irespective of gender.\n",
    "29 / 80"
   ]
  },
  {
   "cell_type": "code",
   "execution_count": null,
   "metadata": {},
   "outputs": [
    {
     "data": {
      "text/plain": [
       "14.5"
      ]
     },
     "execution_count": 21,
     "metadata": {},
     "output_type": "execute_result"
    }
   ],
   "source": [
    "# If no relationship between gender and medium, \n",
    "# then we should have same proportion of males\n",
    "# liking books as we have overall\n",
    "40 * (29 / 80)"
   ]
  },
  {
   "cell_type": "code",
   "execution_count": null,
   "metadata": {},
   "outputs": [
    {
     "data": {
      "text/plain": [
       "25.5"
      ]
     },
     "execution_count": 22,
     "metadata": {},
     "output_type": "execute_result"
    }
   ],
   "source": [
    "# If no relationship between gender and medium, \n",
    "# then we should have same proportion of people \n",
    "# liking online who are female as we have overall\n",
    "51 * (40 / 80)"
   ]
  },
  {
   "cell_type": "markdown",
   "metadata": {},
   "source": [
    "***\n",
    "\n",
    "## End\n",
    "\n",
    "***"
   ]
  }
 ],
 "metadata": {
  "kernelspec": {
   "display_name": "Python 3 (ipykernel)",
   "language": "python",
   "name": "python3"
  },
  "language_info": {
   "codemirror_mode": {
    "name": "ipython",
    "version": 3
   },
   "file_extension": ".py",
   "mimetype": "text/x-python",
   "name": "python",
   "nbconvert_exporter": "python",
   "pygments_lexer": "ipython3",
   "version": "3.9.13"
  }
 },
 "nbformat": 4,
 "nbformat_minor": 2
}
