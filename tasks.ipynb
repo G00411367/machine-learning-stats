{
 "cells": [
  {
   "cell_type": "markdown",
   "metadata": {},
   "source": [
    "Machine Learning and Statistics\n",
    "\n",
    "Winter 2023\n",
    "\n",
    "by Ioan Domsa\n",
    "\n",
    "***"
   ]
  },
  {
   "cell_type": "markdown",
   "metadata": {},
   "source": [
    "## Task 1\n",
    "\n",
    "***\n",
    "\n",
    "> Square roots are difficult to calculate. In Python, you typically use the power operator (a double asterisk) or a package such\n",
    "as `math`. In this task you should write a function `sqrt(x)` to approximate the square root of a floating point number x without\n",
    "using the power operator or a package.\n",
    "\n",
    ">Rather, you should use the Newton’s method. Start with an initial guess for the square root called $z_0$. You then repeatedly\n",
    "improve it using the following formula, until the difference between some previous guess $z_{i}$ and the next $z_{i+1}$\n",
    "is less than some threshold, say 0.01.\n",
    "\n",
    "$$ z_{i+1} = z_i − \\frac {z_i × z_i − x}{2z_i} $$\n"
   ]
  },
  {
   "cell_type": "code",
   "execution_count": 8,
   "metadata": {},
   "outputs": [
    {
     "name": "stdout",
     "output_type": "stream",
     "text": [
      "1.7320508075688772\n"
     ]
    }
   ],
   "source": [
    "def sqrt(x):\n",
    "    # Initial guess for the square root.\n",
    "    z1 = x / 2.0\n",
    "    # set a threshold of approximation\n",
    "    t = 0.0000001\n",
    "    # counter\n",
    "    # c = 0\n",
    "\n",
    "# Loop until we are accurate enough\n",
    "    while True:\n",
    "        # Newtons method\n",
    "        z2 = z1 - ((z1*z1)-x)/(2*z1)\n",
    "        # c = c + 1 \n",
    "        # check the threshold\n",
    "        if abs(z2-z1) <= t:\n",
    "            break\n",
    "        z1 = z2\n",
    "    # return z2, c\n",
    "    return z2\n",
    "\n",
    "x = 3\n",
    "# result, count = sqrt(x)\n",
    "result = sqrt(x)\n",
    "print(result)\n",
    "# print(count)"
   ]
  },
  {
   "cell_type": "code",
   "execution_count": 2,
   "metadata": {},
   "outputs": [
    {
     "data": {
      "text/plain": [
       "1.7320508075688774"
      ]
     },
     "execution_count": 2,
     "metadata": {},
     "output_type": "execute_result"
    }
   ],
   "source": [
    "# Test function\n",
    "sqrt(3)"
   ]
  },
  {
   "cell_type": "code",
   "execution_count": 3,
   "metadata": {},
   "outputs": [
    {
     "data": {
      "text/plain": [
       "1.7320508075688772"
      ]
     },
     "execution_count": 3,
     "metadata": {},
     "output_type": "execute_result"
    }
   ],
   "source": [
    "# Check Python's value for square root of 3\n",
    "3**0.5"
   ]
  },
  {
   "cell_type": "code",
   "execution_count": null,
   "metadata": {},
   "outputs": [],
   "source": []
  },
  {
   "cell_type": "markdown",
   "metadata": {},
   "source": [
    "### Notes\n",
    "\n",
    "***\n",
    "\n",
    "1. The calculation $ z^2 - x $ is exactly zero when $z$ is the sqare root of $x$. It is greater than zero when $z$ is too big. It is less than zero when $z$ is too small. Thus $(z^2 -x)^2$ is a good candidate for a cost function.\n",
    "\n",
    "2. The derivative of the numerator $z^2 - x$ with respect to $z$ is $2z$. That is the denominator of the fraction in the formula from the question"
   ]
  },
  {
   "cell_type": "markdown",
   "metadata": {},
   "source": [
    "***\n",
    "## End\n"
   ]
  }
 ],
 "metadata": {
  "kernelspec": {
   "display_name": "base",
   "language": "python",
   "name": "python3"
  },
  "language_info": {
   "codemirror_mode": {
    "name": "ipython",
    "version": 3
   },
   "file_extension": ".py",
   "mimetype": "text/x-python",
   "name": "python",
   "nbconvert_exporter": "python",
   "pygments_lexer": "ipython3",
   "version": "3.9.13"
  },
  "orig_nbformat": 4
 },
 "nbformat": 4,
 "nbformat_minor": 2
}
