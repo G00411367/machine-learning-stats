{
 "cells": [
  {
   "cell_type": "markdown",
   "metadata": {},
   "source": [
    "## <center> Machine Learning and Statistics\n",
    "\n",
    "\n",
    "### <center> Classification algorithms applied on Iris data set\n",
    "\n",
    "***"
   ]
  },
  {
   "cell_type": "markdown",
   "metadata": {},
   "source": [
    "<center> <img src = \"https://robots.net/wp-content/uploads/2023/11/google-what-is-machine-learning-1700045847.jpg\" alt=\"image\" width = \"800\"/>"
   ]
  },
  {
   "cell_type": "markdown",
   "metadata": {},
   "source": [
    "\n",
    "### Machine learning\n",
    "\n",
    "Machine learning is a branch of artificial intelligence (AI) and computer science which focuses on the use of data and algorithms to imitate the way that humans learn, gradually improving its accuracy. [1]\n",
    "\n",
    "Through the use of numerical approach Machine learning focuses on building generic functions that can be trained to mimic other functions. \n",
    "\n",
    "Machine learning uses data and mathematical algorithms that can be trained on existing data to recognize patterns and make predictions. Also, algorithms can improve their behavior as more data is gathered. \n",
    "\n",
    "The key point in Machine learning is the capability to \"learn from experience\" whereas in conventional programming rules and instructions are explicitly defined.\n"
   ]
  },
  {
   "cell_type": "markdown",
   "metadata": {},
   "source": [
    "### Machine learning Algorithms\n",
    "\n",
    "Machine learning algorithms are the building blocks of machine learning models. They are designed to learn patterns, make predictions, and make decisions based on the data they are given. [2]\n",
    "\n",
    "Some of the most common Machine learning algorithm types:\n",
    "\n",
    "- Supervised Learning\n",
    "\n",
    "- Unsupervised Learning\n",
    "\n",
    "- Semi-Supervised Learning\n",
    "\n",
    "- Reinforcement Learning\n",
    "\n",
    "- Deep Learning"
   ]
  },
  {
   "cell_type": "markdown",
   "metadata": {},
   "source": [
    "***\n",
    "### References\n",
    "\n",
    "[1] https://www.ibm.com/topics/machine-learning\n",
    "\n",
    "[2] https://robots.net/fintech/google-what-is-machine-learning/\n",
    "\n",
    "[3] https://www.oracle.com/ie/artificial-intelligence/machine-learning/what-is-machine-learning/"
   ]
  }
 ],
 "metadata": {
  "kernelspec": {
   "display_name": "Python 3 (ipykernel)",
   "language": "python",
   "name": "python3"
  },
  "language_info": {
   "codemirror_mode": {
    "name": "ipython",
    "version": 3
   },
   "file_extension": ".py",
   "mimetype": "text/x-python",
   "name": "python",
   "nbconvert_exporter": "python",
   "pygments_lexer": "ipython3",
   "version": "3.9.18"
  }
 },
 "nbformat": 4,
 "nbformat_minor": 2
}
