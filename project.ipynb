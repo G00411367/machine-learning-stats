{
 "cells": [
  {
   "cell_type": "markdown",
   "metadata": {},
   "source": [
    "## <center> Machine Learning and Statistics\n",
    "\n",
    "\n",
    "### <center> Classification algorithms applied on Iris data set\n",
    "\n",
    "***"
   ]
  },
  {
   "cell_type": "markdown",
   "metadata": {},
   "source": [
    "<center> <img src = \"https://robots.net/wp-content/uploads/2023/11/google-what-is-machine-learning-1700045847.jpg\" alt=\"image\" width = \"450\"/>"
   ]
  },
  {
   "cell_type": "markdown",
   "metadata": {},
   "source": [
    "### Machine learning\n",
    "\n",
    "Today machine learning is present in our daily life all around us. \n",
    "One very popular example is the e-commerce reccomendation engine where the website tracks browse history to build models that can predict user preferences. \n",
    "In other fields machine learning can analyse mamograms to predict tumors, perform spam filtering, predict traffic or can be used in self-driving cars technology to give just a few example.\n",
    "\n",
    "Machine learning is a branch of artificial intelligence (AI) and computer science which focuses on the use of data and algorithms to imitate the way that humans learn, gradually improving its accuracy. [1]\n",
    "\n",
    "Through the use of numerical approach machine learning focuses on building generic functions that can be trained to mimic other functions. \n",
    "\n",
    "Machine learning works by utilizing mathematical algorithms that can be trained on existing data to recognize patterns and make predictions. This process tipically involves a few steps starting with data collection, data preparation, model traing and evaluation. The algorithms improve their behavior and precision as more data is gathered.\n",
    "\n",
    "The key point in Machine learning is the capability to \"learn from experience\" whereas in conventional programming rules and instructions are explicitly defined.\n",
    "\n",
    "Overall, machine learning revolves around leveraging data and algorithms to allow computers to \"learn from experience\", make predictions, and improve their performance. "
   ]
  },
  {
   "cell_type": "markdown",
   "metadata": {},
   "source": [
    "### Machine learning methods\n",
    "\n",
    "There are three primary cathegories of machine learning methods: Supervised learning, Unsupervised learning and Semi-supervised learning.\n",
    "\n",
    "\n",
    "#### Supervised learning\n",
    "\n",
    "Supervised learning is the most common type of machine learning. \n",
    "\n",
    "In this approach the training data is labeled, meaning it has both the input data and the corresponding output variable.\n",
    "The model learns a mapping between the input (features) and the output (label) during the training process. Once trained, the model can predict the output for new, unseen data. [5]\n",
    "\n",
    "The diagram below ilustrates how supervised learning works on a dataset containing variety of forms such as such as squares, rectangles, triangles, and polygons. The model is first trained for each shape based on an algorithm that evaluates the number of sides and angles, then tested. The model's objective is to recognize the shape.\n",
    "As the system has already been trained on a variety of forms, when it encounters a new one, it classifies it based on the number of sides and predicts the outcome."
   ]
  },
  {
   "cell_type": "markdown",
   "metadata": {},
   "source": [
    "<center> <img src = \"https://tutorialforbeginner.com/images/tutorial/supervised-machine-learning.png\" alt=\"image\" width = \"450\"/>  [7]"
   ]
  },
  {
   "cell_type": "markdown",
   "metadata": {},
   "source": [
    "A typical supervised learning flow chart consists of :\n",
    "\n",
    "- Determining the data set\n",
    "- Identifing the labelled training data\n",
    "- Splitting the data set into training data and test data\n",
    "- Choosing the apropiate algorithm for the model\n",
    "- Testing the algorithm on the training data set\n",
    "- Evaluating model's accuracy on the test data\n",
    "\n",
    "Supervised learning can be separated into two types : regression and classification \n",
    "\n",
    "<center> <img src = \"https://blogger.googleusercontent.com/img/b/R29vZ2xl/AVvXsEh0aQPc42ahvTfkJ6FBkEZuoNVeY-cMBRiXUMOnJJDwX8DiVANYdmf8BVI77aU_STP_2vT79TnfBEWeUeMgXD8ts-weFAMhkt8h2iBf-TqmW3_r6nzw9jfBusDTEglnBPz92BRS7bMGVqh3bMJJPoNy0dUuYTL6oR1GiZOshoOjA7P9wPjkLZRti8AV1w/w576-h236/classification%20vs%20regression%20graph%20(1).png\" alt=\"image\" width = \"500\"/>"
   ]
  },
  {
   "cell_type": "markdown",
   "metadata": {},
   "source": [
    "##### Regression \n",
    "Regression is a statistical technique used to establish a relationship between the input and the output variables and it is used in predicting continuous outcome values. \n",
    "\n",
    "Common use for machine learning regression models includes forecasting continuous outcomes like house prices, stock prices, predicting the success of future retail sales, predicting customer or user trends [6]\n",
    "\n",
    "Common regression algorithms are:\n",
    "- Linear Regression\n",
    "- Polynomial Regression\n",
    "- Support Vector Machine Regression\n",
    "- Decision Tree Regression\n",
    "- Random Forest Regression\n",
    "\n",
    "##### Classification \n",
    "Classification in machine learning is a method that is used to cathegorize data. The algorithms identify paterns or relationships based on training process and make classification prediction on new unseen data.\n",
    "Classification models are designed to handle both binary classification problems, where the data needs to be classified into two distinct classes, and multiclass classification problems, where the data can be classified into more than two classes [8]\n",
    "\n",
    "Common classification algorithms are:\n",
    "- Logistic Regression\n",
    "- Support Vector Machines\n",
    "- K-nearest neighbours\n",
    "- Decision trees\n",
    "- Random forest"
   ]
  },
  {
   "cell_type": "markdown",
   "metadata": {},
   "source": []
  },
  {
   "cell_type": "markdown",
   "metadata": {},
   "source": [
    "***\n",
    "### References\n",
    "\n",
    "[1] https://www.ibm.com/topics/machine-learning\n",
    "\n",
    "[2] https://robots.net/fintech/google-what-is-machine-learning/\n",
    "\n",
    "[3] https://www.oracle.com/ie/artificial-intelligence/machine-learning/what-is-machine-learning/\n",
    "\n",
    "[4] https://www.coursera.org/articles/machine-learning-examples\n",
    "\n",
    "[5] https://www.datacamp.com/blog/what-is-machine-learning\n",
    "\n",
    "[6] https://www.seldon.io/machine-learning-regression-explained\n",
    "\n",
    "[7] https://tutorialforbeginner.com/supervised-machine-learning\n",
    "\n",
    "[8] https://robots.net/fintech/what-is-a-classification-model-in-machine-learning/"
   ]
  }
 ],
 "metadata": {
  "kernelspec": {
   "display_name": "Python 3 (ipykernel)",
   "language": "python",
   "name": "python3"
  },
  "language_info": {
   "codemirror_mode": {
    "name": "ipython",
    "version": 3
   },
   "file_extension": ".py",
   "mimetype": "text/x-python",
   "name": "python",
   "nbconvert_exporter": "python",
   "pygments_lexer": "ipython3",
   "version": "3.9.18"
  }
 },
 "nbformat": 4,
 "nbformat_minor": 2
}
