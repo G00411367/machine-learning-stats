{
 "cells": [
  {
   "cell_type": "markdown",
   "metadata": {},
   "source": [
    "## Chi-Square Tests\n",
    "\n",
    "***"
   ]
  },
  {
   "cell_type": "code",
   "execution_count": 1,
   "metadata": {},
   "outputs": [],
   "source": [
    "# Data frames.\n",
    "import pandas as pd\n",
    "\n",
    "# Shuffles.\n",
    "import random\n",
    "\n",
    "# Statistics.\n",
    "import scipy.stats as ss"
   ]
  },
  {
   "cell_type": "markdown",
   "metadata": {},
   "source": [
    "## Laerd Statistics Chi-Square Test for Independence\n",
    "\n",
    "https://statistics.laerd.com/spss-tutorials/chi-square-test-for-association-using-spss-statistics.php\n",
    "\n",
    "***"
   ]
  },
  {
   "cell_type": "markdown",
   "metadata": {},
   "source": []
  },
  {
   "cell_type": "code",
   "execution_count": 2,
   "metadata": {},
   "outputs": [
    {
     "data": {
      "text/plain": [
       "[['Male', 'Books'],\n",
       " ['Male', 'Books'],\n",
       " ['Male', 'Books'],\n",
       " ['Male', 'Books'],\n",
       " ['Male', 'Books'],\n",
       " ['Male', 'Books'],\n",
       " ['Male', 'Books'],\n",
       " ['Male', 'Books'],\n",
       " ['Male', 'Books'],\n",
       " ['Male', 'Books'],\n",
       " ['Male', 'Books'],\n",
       " ['Male', 'Books'],\n",
       " ['Male', 'Books'],\n",
       " ['Male', 'Books'],\n",
       " ['Male', 'Books'],\n",
       " ['Male', 'Books']]"
      ]
     },
     "execution_count": 2,
     "metadata": {},
     "output_type": "execute_result"
    }
   ],
   "source": [
    "# Sixteen Males who preferred Books.\n",
    "male_books = [[\"Male\", \"Books\"]] * 16\n",
    "\n",
    "# Show\n",
    "male_books"
   ]
  },
  {
   "cell_type": "code",
   "execution_count": 3,
   "metadata": {},
   "outputs": [
    {
     "data": {
      "text/plain": [
       "[['Female', 'Books'],\n",
       " ['Female', 'Books'],\n",
       " ['Female', 'Books'],\n",
       " ['Female', 'Books'],\n",
       " ['Female', 'Books'],\n",
       " ['Female', 'Books'],\n",
       " ['Female', 'Books'],\n",
       " ['Female', 'Books'],\n",
       " ['Female', 'Books'],\n",
       " ['Female', 'Books'],\n",
       " ['Female', 'Books'],\n",
       " ['Female', 'Books'],\n",
       " ['Female', 'Books']]"
      ]
     },
     "execution_count": 3,
     "metadata": {},
     "output_type": "execute_result"
    }
   ],
   "source": [
    "# Therteen Female who preferred Books.\n",
    "female_books = [[\"Female\", \"Books\"]] * 13\n",
    "\n",
    "# Show\n",
    "female_books"
   ]
  },
  {
   "cell_type": "code",
   "execution_count": 4,
   "metadata": {},
   "outputs": [
    {
     "data": {
      "text/plain": [
       "[['Male', 'Online'],\n",
       " ['Male', 'Online'],\n",
       " ['Male', 'Online'],\n",
       " ['Male', 'Online'],\n",
       " ['Male', 'Online'],\n",
       " ['Male', 'Online'],\n",
       " ['Male', 'Online'],\n",
       " ['Male', 'Online'],\n",
       " ['Male', 'Online'],\n",
       " ['Male', 'Online'],\n",
       " ['Male', 'Online'],\n",
       " ['Male', 'Online'],\n",
       " ['Male', 'Online'],\n",
       " ['Male', 'Online'],\n",
       " ['Male', 'Online'],\n",
       " ['Male', 'Online'],\n",
       " ['Male', 'Online'],\n",
       " ['Male', 'Online'],\n",
       " ['Male', 'Online'],\n",
       " ['Male', 'Online'],\n",
       " ['Male', 'Online'],\n",
       " ['Male', 'Online'],\n",
       " ['Male', 'Online'],\n",
       " ['Male', 'Online']]"
      ]
     },
     "execution_count": 4,
     "metadata": {},
     "output_type": "execute_result"
    }
   ],
   "source": [
    "# Twenty-four Males who preferred online.\n",
    "male_online = [[\"Male\", \"Online\"]] * 24\n",
    "\n",
    "# Show\n",
    "male_online"
   ]
  },
  {
   "cell_type": "code",
   "execution_count": 5,
   "metadata": {},
   "outputs": [
    {
     "data": {
      "text/plain": [
       "[['Female', 'Online'],\n",
       " ['Female', 'Online'],\n",
       " ['Female', 'Online'],\n",
       " ['Female', 'Online'],\n",
       " ['Female', 'Online'],\n",
       " ['Female', 'Online'],\n",
       " ['Female', 'Online'],\n",
       " ['Female', 'Online'],\n",
       " ['Female', 'Online'],\n",
       " ['Female', 'Online'],\n",
       " ['Female', 'Online'],\n",
       " ['Female', 'Online'],\n",
       " ['Female', 'Online'],\n",
       " ['Female', 'Online'],\n",
       " ['Female', 'Online'],\n",
       " ['Female', 'Online'],\n",
       " ['Female', 'Online'],\n",
       " ['Female', 'Online'],\n",
       " ['Female', 'Online'],\n",
       " ['Female', 'Online'],\n",
       " ['Female', 'Online'],\n",
       " ['Female', 'Online'],\n",
       " ['Female', 'Online'],\n",
       " ['Female', 'Online'],\n",
       " ['Female', 'Online'],\n",
       " ['Female', 'Online'],\n",
       " ['Female', 'Online']]"
      ]
     },
     "execution_count": 5,
     "metadata": {},
     "output_type": "execute_result"
    }
   ],
   "source": [
    "# Twenty-seven Females who preferred online.\n",
    "female_online = [[\"Female\", \"Online\"]] * 27\n",
    "\n",
    "# Show\n",
    "female_online"
   ]
  },
  {
   "cell_type": "code",
   "execution_count": 6,
   "metadata": {},
   "outputs": [
    {
     "data": {
      "text/plain": [
       "[['Male', 'Books'],\n",
       " ['Male', 'Books'],\n",
       " ['Male', 'Books'],\n",
       " ['Male', 'Books'],\n",
       " ['Male', 'Books'],\n",
       " ['Male', 'Books'],\n",
       " ['Male', 'Books'],\n",
       " ['Male', 'Books'],\n",
       " ['Male', 'Books'],\n",
       " ['Male', 'Books'],\n",
       " ['Male', 'Books'],\n",
       " ['Male', 'Books'],\n",
       " ['Male', 'Books'],\n",
       " ['Male', 'Books'],\n",
       " ['Male', 'Books'],\n",
       " ['Male', 'Books'],\n",
       " ['Male', 'Online'],\n",
       " ['Male', 'Online'],\n",
       " ['Male', 'Online'],\n",
       " ['Male', 'Online'],\n",
       " ['Male', 'Online'],\n",
       " ['Male', 'Online'],\n",
       " ['Male', 'Online'],\n",
       " ['Male', 'Online'],\n",
       " ['Male', 'Online'],\n",
       " ['Male', 'Online'],\n",
       " ['Male', 'Online'],\n",
       " ['Male', 'Online'],\n",
       " ['Male', 'Online'],\n",
       " ['Male', 'Online'],\n",
       " ['Male', 'Online'],\n",
       " ['Male', 'Online'],\n",
       " ['Male', 'Online'],\n",
       " ['Male', 'Online'],\n",
       " ['Male', 'Online'],\n",
       " ['Male', 'Online'],\n",
       " ['Male', 'Online'],\n",
       " ['Male', 'Online'],\n",
       " ['Male', 'Online'],\n",
       " ['Male', 'Online'],\n",
       " ['Female', 'Books'],\n",
       " ['Female', 'Books'],\n",
       " ['Female', 'Books'],\n",
       " ['Female', 'Books'],\n",
       " ['Female', 'Books'],\n",
       " ['Female', 'Books'],\n",
       " ['Female', 'Books'],\n",
       " ['Female', 'Books'],\n",
       " ['Female', 'Books'],\n",
       " ['Female', 'Books'],\n",
       " ['Female', 'Books'],\n",
       " ['Female', 'Books'],\n",
       " ['Female', 'Books'],\n",
       " ['Female', 'Online'],\n",
       " ['Female', 'Online'],\n",
       " ['Female', 'Online'],\n",
       " ['Female', 'Online'],\n",
       " ['Female', 'Online'],\n",
       " ['Female', 'Online'],\n",
       " ['Female', 'Online'],\n",
       " ['Female', 'Online'],\n",
       " ['Female', 'Online'],\n",
       " ['Female', 'Online'],\n",
       " ['Female', 'Online'],\n",
       " ['Female', 'Online'],\n",
       " ['Female', 'Online'],\n",
       " ['Female', 'Online'],\n",
       " ['Female', 'Online'],\n",
       " ['Female', 'Online'],\n",
       " ['Female', 'Online'],\n",
       " ['Female', 'Online'],\n",
       " ['Female', 'Online'],\n",
       " ['Female', 'Online'],\n",
       " ['Female', 'Online'],\n",
       " ['Female', 'Online'],\n",
       " ['Female', 'Online'],\n",
       " ['Female', 'Online'],\n",
       " ['Female', 'Online'],\n",
       " ['Female', 'Online'],\n",
       " ['Female', 'Online']]"
      ]
     },
     "execution_count": 6,
     "metadata": {},
     "output_type": "execute_result"
    }
   ],
   "source": [
    "# Raw data, merge the four lists\n",
    "\n",
    "raw_data = male_books + male_online + female_books + female_online\n",
    "\n",
    "# show raw data\n",
    "raw_data"
   ]
  },
  {
   "cell_type": "code",
   "execution_count": 7,
   "metadata": {},
   "outputs": [
    {
     "data": {
      "text/plain": [
       "[['Male', 'Books'],\n",
       " ['Female', 'Online'],\n",
       " ['Female', 'Online'],\n",
       " ['Female', 'Online'],\n",
       " ['Male', 'Online'],\n",
       " ['Male', 'Online'],\n",
       " ['Female', 'Books'],\n",
       " ['Male', 'Online'],\n",
       " ['Female', 'Online'],\n",
       " ['Female', 'Books'],\n",
       " ['Female', 'Online'],\n",
       " ['Female', 'Online'],\n",
       " ['Female', 'Books'],\n",
       " ['Female', 'Online'],\n",
       " ['Male', 'Books'],\n",
       " ['Male', 'Online'],\n",
       " ['Female', 'Books'],\n",
       " ['Male', 'Books'],\n",
       " ['Male', 'Books'],\n",
       " ['Male', 'Books'],\n",
       " ['Female', 'Online'],\n",
       " ['Male', 'Online'],\n",
       " ['Male', 'Online'],\n",
       " ['Male', 'Online'],\n",
       " ['Female', 'Online'],\n",
       " ['Female', 'Online'],\n",
       " ['Male', 'Online'],\n",
       " ['Male', 'Online'],\n",
       " ['Male', 'Books'],\n",
       " ['Female', 'Online'],\n",
       " ['Female', 'Online'],\n",
       " ['Female', 'Online'],\n",
       " ['Male', 'Online'],\n",
       " ['Female', 'Online'],\n",
       " ['Male', 'Books'],\n",
       " ['Female', 'Books'],\n",
       " ['Female', 'Online'],\n",
       " ['Male', 'Books'],\n",
       " ['Male', 'Online'],\n",
       " ['Female', 'Online'],\n",
       " ['Male', 'Online'],\n",
       " ['Male', 'Online'],\n",
       " ['Male', 'Online'],\n",
       " ['Male', 'Online'],\n",
       " ['Female', 'Online'],\n",
       " ['Female', 'Online'],\n",
       " ['Male', 'Online'],\n",
       " ['Female', 'Books'],\n",
       " ['Female', 'Online'],\n",
       " ['Male', 'Books'],\n",
       " ['Male', 'Online'],\n",
       " ['Male', 'Books'],\n",
       " ['Male', 'Online'],\n",
       " ['Female', 'Books'],\n",
       " ['Female', 'Books'],\n",
       " ['Male', 'Online'],\n",
       " ['Male', 'Books'],\n",
       " ['Male', 'Books'],\n",
       " ['Male', 'Books'],\n",
       " ['Female', 'Online'],\n",
       " ['Male', 'Online'],\n",
       " ['Female', 'Online'],\n",
       " ['Female', 'Online'],\n",
       " ['Female', 'Online'],\n",
       " ['Female', 'Books'],\n",
       " ['Female', 'Books'],\n",
       " ['Female', 'Online'],\n",
       " ['Male', 'Books'],\n",
       " ['Male', 'Online'],\n",
       " ['Female', 'Books'],\n",
       " ['Female', 'Online'],\n",
       " ['Male', 'Online'],\n",
       " ['Female', 'Online'],\n",
       " ['Male', 'Online'],\n",
       " ['Female', 'Books'],\n",
       " ['Male', 'Online'],\n",
       " ['Female', 'Online'],\n",
       " ['Male', 'Books'],\n",
       " ['Male', 'Books'],\n",
       " ['Female', 'Books']]"
      ]
     },
     "execution_count": 7,
     "metadata": {},
     "output_type": "execute_result"
    }
   ],
   "source": [
    "# Shuffle the data\n",
    "\n",
    "random.shuffle(raw_data)\n",
    "\n",
    "# show raw_data\n",
    "raw_data"
   ]
  },
  {
   "cell_type": "code",
   "execution_count": 8,
   "metadata": {},
   "outputs": [
    {
     "data": {
      "text/plain": [
       "(('Male',\n",
       "  'Female',\n",
       "  'Female',\n",
       "  'Female',\n",
       "  'Male',\n",
       "  'Male',\n",
       "  'Female',\n",
       "  'Male',\n",
       "  'Female',\n",
       "  'Female',\n",
       "  'Female',\n",
       "  'Female',\n",
       "  'Female',\n",
       "  'Female',\n",
       "  'Male',\n",
       "  'Male',\n",
       "  'Female',\n",
       "  'Male',\n",
       "  'Male',\n",
       "  'Male',\n",
       "  'Female',\n",
       "  'Male',\n",
       "  'Male',\n",
       "  'Male',\n",
       "  'Female',\n",
       "  'Female',\n",
       "  'Male',\n",
       "  'Male',\n",
       "  'Male',\n",
       "  'Female',\n",
       "  'Female',\n",
       "  'Female',\n",
       "  'Male',\n",
       "  'Female',\n",
       "  'Male',\n",
       "  'Female',\n",
       "  'Female',\n",
       "  'Male',\n",
       "  'Male',\n",
       "  'Female',\n",
       "  'Male',\n",
       "  'Male',\n",
       "  'Male',\n",
       "  'Male',\n",
       "  'Female',\n",
       "  'Female',\n",
       "  'Male',\n",
       "  'Female',\n",
       "  'Female',\n",
       "  'Male',\n",
       "  'Male',\n",
       "  'Male',\n",
       "  'Male',\n",
       "  'Female',\n",
       "  'Female',\n",
       "  'Male',\n",
       "  'Male',\n",
       "  'Male',\n",
       "  'Male',\n",
       "  'Female',\n",
       "  'Male',\n",
       "  'Female',\n",
       "  'Female',\n",
       "  'Female',\n",
       "  'Female',\n",
       "  'Female',\n",
       "  'Female',\n",
       "  'Male',\n",
       "  'Male',\n",
       "  'Female',\n",
       "  'Female',\n",
       "  'Male',\n",
       "  'Female',\n",
       "  'Male',\n",
       "  'Female',\n",
       "  'Male',\n",
       "  'Female',\n",
       "  'Male',\n",
       "  'Male',\n",
       "  'Female'),\n",
       " ('Books',\n",
       "  'Online',\n",
       "  'Online',\n",
       "  'Online',\n",
       "  'Online',\n",
       "  'Online',\n",
       "  'Books',\n",
       "  'Online',\n",
       "  'Online',\n",
       "  'Books',\n",
       "  'Online',\n",
       "  'Online',\n",
       "  'Books',\n",
       "  'Online',\n",
       "  'Books',\n",
       "  'Online',\n",
       "  'Books',\n",
       "  'Books',\n",
       "  'Books',\n",
       "  'Books',\n",
       "  'Online',\n",
       "  'Online',\n",
       "  'Online',\n",
       "  'Online',\n",
       "  'Online',\n",
       "  'Online',\n",
       "  'Online',\n",
       "  'Online',\n",
       "  'Books',\n",
       "  'Online',\n",
       "  'Online',\n",
       "  'Online',\n",
       "  'Online',\n",
       "  'Online',\n",
       "  'Books',\n",
       "  'Books',\n",
       "  'Online',\n",
       "  'Books',\n",
       "  'Online',\n",
       "  'Online',\n",
       "  'Online',\n",
       "  'Online',\n",
       "  'Online',\n",
       "  'Online',\n",
       "  'Online',\n",
       "  'Online',\n",
       "  'Online',\n",
       "  'Books',\n",
       "  'Online',\n",
       "  'Books',\n",
       "  'Online',\n",
       "  'Books',\n",
       "  'Online',\n",
       "  'Books',\n",
       "  'Books',\n",
       "  'Online',\n",
       "  'Books',\n",
       "  'Books',\n",
       "  'Books',\n",
       "  'Online',\n",
       "  'Online',\n",
       "  'Online',\n",
       "  'Online',\n",
       "  'Online',\n",
       "  'Books',\n",
       "  'Books',\n",
       "  'Online',\n",
       "  'Books',\n",
       "  'Online',\n",
       "  'Books',\n",
       "  'Online',\n",
       "  'Online',\n",
       "  'Online',\n",
       "  'Online',\n",
       "  'Books',\n",
       "  'Online',\n",
       "  'Online',\n",
       "  'Books',\n",
       "  'Books',\n",
       "  'Books'))"
      ]
     },
     "execution_count": 8,
     "metadata": {},
     "output_type": "execute_result"
    }
   ],
   "source": [
    "# Zip the list - make the rows columns and the columns rows\n",
    "# Interchange the outer and inner lists\n",
    "gender, medium = list(zip(*raw_data))\n",
    "\n",
    "# Show gender, medium\n",
    "gender, medium"
   ]
  },
  {
   "cell_type": "code",
   "execution_count": 9,
   "metadata": {},
   "outputs": [
    {
     "data": {
      "text/html": [
       "<div>\n",
       "<style scoped>\n",
       "    .dataframe tbody tr th:only-of-type {\n",
       "        vertical-align: middle;\n",
       "    }\n",
       "\n",
       "    .dataframe tbody tr th {\n",
       "        vertical-align: top;\n",
       "    }\n",
       "\n",
       "    .dataframe thead th {\n",
       "        text-align: right;\n",
       "    }\n",
       "</style>\n",
       "<table border=\"1\" class=\"dataframe\">\n",
       "  <thead>\n",
       "    <tr style=\"text-align: right;\">\n",
       "      <th></th>\n",
       "      <th>gender</th>\n",
       "      <th>medium</th>\n",
       "    </tr>\n",
       "  </thead>\n",
       "  <tbody>\n",
       "    <tr>\n",
       "      <th>0</th>\n",
       "      <td>Male</td>\n",
       "      <td>Books</td>\n",
       "    </tr>\n",
       "    <tr>\n",
       "      <th>1</th>\n",
       "      <td>Female</td>\n",
       "      <td>Online</td>\n",
       "    </tr>\n",
       "    <tr>\n",
       "      <th>2</th>\n",
       "      <td>Female</td>\n",
       "      <td>Online</td>\n",
       "    </tr>\n",
       "    <tr>\n",
       "      <th>3</th>\n",
       "      <td>Female</td>\n",
       "      <td>Online</td>\n",
       "    </tr>\n",
       "    <tr>\n",
       "      <th>4</th>\n",
       "      <td>Male</td>\n",
       "      <td>Online</td>\n",
       "    </tr>\n",
       "    <tr>\n",
       "      <th>...</th>\n",
       "      <td>...</td>\n",
       "      <td>...</td>\n",
       "    </tr>\n",
       "    <tr>\n",
       "      <th>75</th>\n",
       "      <td>Male</td>\n",
       "      <td>Online</td>\n",
       "    </tr>\n",
       "    <tr>\n",
       "      <th>76</th>\n",
       "      <td>Female</td>\n",
       "      <td>Online</td>\n",
       "    </tr>\n",
       "    <tr>\n",
       "      <th>77</th>\n",
       "      <td>Male</td>\n",
       "      <td>Books</td>\n",
       "    </tr>\n",
       "    <tr>\n",
       "      <th>78</th>\n",
       "      <td>Male</td>\n",
       "      <td>Books</td>\n",
       "    </tr>\n",
       "    <tr>\n",
       "      <th>79</th>\n",
       "      <td>Female</td>\n",
       "      <td>Books</td>\n",
       "    </tr>\n",
       "  </tbody>\n",
       "</table>\n",
       "<p>80 rows × 2 columns</p>\n",
       "</div>"
      ],
      "text/plain": [
       "    gender  medium\n",
       "0     Male   Books\n",
       "1   Female  Online\n",
       "2   Female  Online\n",
       "3   Female  Online\n",
       "4     Male  Online\n",
       "..     ...     ...\n",
       "75    Male  Online\n",
       "76  Female  Online\n",
       "77    Male   Books\n",
       "78    Male   Books\n",
       "79  Female   Books\n",
       "\n",
       "[80 rows x 2 columns]"
      ]
     },
     "execution_count": 9,
     "metadata": {},
     "output_type": "execute_result"
    }
   ],
   "source": [
    "# create a data frame\n",
    "df = pd.DataFrame({\"gender\": gender, \"medium\": medium})\n",
    "\n",
    "# show\n",
    "df"
   ]
  },
  {
   "cell_type": "markdown",
   "metadata": {},
   "source": [
    "## Contingency Table\n",
    "\n",
    "***"
   ]
  },
  {
   "cell_type": "code",
   "execution_count": 10,
   "metadata": {},
   "outputs": [
    {
     "data": {
      "text/plain": [
       "CrosstabResult(elements=(array(['Female', 'Male'], dtype=object), array(['Books', 'Online'], dtype=object)), count=array([[13, 27],\n",
       "       [16, 24]]))"
      ]
     },
     "execution_count": 10,
     "metadata": {},
     "output_type": "execute_result"
    }
   ],
   "source": [
    "# perform fross tab contingency\n",
    "cross = ss.contingency.crosstab(df[\"gender\"], df[\"medium\"])\n",
    "\n",
    "# show\n",
    "cross"
   ]
  },
  {
   "cell_type": "code",
   "execution_count": 11,
   "metadata": {},
   "outputs": [
    {
     "data": {
      "text/plain": [
       "(array(['Female', 'Male'], dtype=object),\n",
       " array(['Books', 'Online'], dtype=object))"
      ]
     },
     "execution_count": 11,
     "metadata": {},
     "output_type": "execute_result"
    }
   ],
   "source": [
    "# The first variable and the second\n",
    "\n",
    "first, second = cross.elements\n",
    "\n",
    "#show\n",
    "first, second\n"
   ]
  },
  {
   "cell_type": "code",
   "execution_count": 12,
   "metadata": {},
   "outputs": [
    {
     "data": {
      "text/plain": [
       "array([[13, 27],\n",
       "       [16, 24]])"
      ]
     },
     "execution_count": 12,
     "metadata": {},
     "output_type": "execute_result"
    }
   ],
   "source": [
    "# The counts.\n",
    "cross.count"
   ]
  },
  {
   "cell_type": "code",
   "execution_count": 13,
   "metadata": {},
   "outputs": [
    {
     "name": "stdout",
     "output_type": "stream",
     "text": [
      "1.11.3\n"
     ]
    }
   ],
   "source": [
    "import scipy\n",
    "print(scipy.__version__)"
   ]
  },
  {
   "cell_type": "code",
   "execution_count": 14,
   "metadata": {},
   "outputs": [
    {
     "data": {
      "text/plain": [
       "Chi2ContingencyResult(statistic=0.486815415821501, pvalue=0.4853513240525321, dof=1, expected_freq=array([[14.5, 25.5],\n",
       "       [14.5, 25.5]]))"
      ]
     },
     "execution_count": 14,
     "metadata": {},
     "output_type": "execute_result"
    }
   ],
   "source": [
    "# Do the statistics.\n",
    "result = ss.chi2_contingency(cross.count, correction = False)\n",
    "\n",
    "# Show.\n",
    "result"
   ]
  },
  {
   "cell_type": "code",
   "execution_count": 15,
   "metadata": {},
   "outputs": [
    {
     "data": {
      "text/plain": [
       "array([[14.5, 25.5],\n",
       "       [14.5, 25.5]])"
      ]
     },
     "execution_count": 15,
     "metadata": {},
     "output_type": "execute_result"
    }
   ],
   "source": [
    "# The expected frequesncies if independent\n",
    "result.expected_freq"
   ]
  },
  {
   "cell_type": "code",
   "execution_count": 16,
   "metadata": {},
   "outputs": [
    {
     "data": {
      "text/plain": [
       "0.3625"
      ]
     },
     "execution_count": 16,
     "metadata": {},
     "output_type": "execute_result"
    }
   ],
   "source": [
    "# Preferd books irespective of gender.\n",
    "29 / 80"
   ]
  },
  {
   "cell_type": "code",
   "execution_count": 17,
   "metadata": {},
   "outputs": [
    {
     "data": {
      "text/plain": [
       "14.5"
      ]
     },
     "execution_count": 17,
     "metadata": {},
     "output_type": "execute_result"
    }
   ],
   "source": [
    "# If no relationship between gender and medium, \n",
    "# then we should have same proportion of males\n",
    "# liking books as we have overall\n",
    "40 * (29 / 80)"
   ]
  },
  {
   "cell_type": "code",
   "execution_count": 18,
   "metadata": {},
   "outputs": [
    {
     "data": {
      "text/plain": [
       "25.5"
      ]
     },
     "execution_count": 18,
     "metadata": {},
     "output_type": "execute_result"
    }
   ],
   "source": [
    "# If no relationship between gender and medium, \n",
    "# then we should have same proportion of people \n",
    "# liking online who are female as we have overall\n",
    "51 * (40 / 80)"
   ]
  },
  {
   "cell_type": "markdown",
   "metadata": {},
   "source": [
    "***\n",
    "\n",
    "## End\n",
    "\n",
    "***"
   ]
  }
 ],
 "metadata": {
  "kernelspec": {
   "display_name": "Python 3 (ipykernel)",
   "language": "python",
   "name": "python3"
  },
  "language_info": {
   "codemirror_mode": {
    "name": "ipython",
    "version": 3
   },
   "file_extension": ".py",
   "mimetype": "text/x-python",
   "name": "python",
   "nbconvert_exporter": "python",
   "pygments_lexer": "ipython3",
   "version": "3.9.18"
  }
 },
 "nbformat": 4,
 "nbformat_minor": 2
}
